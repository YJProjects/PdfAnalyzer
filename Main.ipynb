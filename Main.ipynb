{
 "cells": [
  {
   "cell_type": "code",
   "execution_count": 7,
   "metadata": {},
   "outputs": [],
   "source": [
    "import PyPDF2 as pdf\n",
    "\n",
    "PDF = open('APPLE.pdf' , 'rb')\n",
    "\n",
    "pages = pdf.PdfReader(PDF).pages\n",
    "\n",
    "raw_text = ''\n",
    "\n",
    "for i in range(len(pages)):\n",
    "    page = pages[i]\n",
    "    raw_text += page.extract_text()"
   ]
  },
  {
   "cell_type": "code",
   "execution_count": 9,
   "metadata": {},
   "outputs": [],
   "source": [
    "#Splitting raw text\n",
    "\n",
    "\n",
    "def chunks(text , size):\n",
    "    split_text = []\n",
    "    i = 0\n",
    "    for z in range(10 , len(text), size):\n",
    "        split_text.append(text[i:z])\n",
    "        i = z\n",
    "\n",
    "    return(split_text)\n",
    "\n",
    "\n",
    "split_text = chunks(text=raw_text , size = 300)"
   ]
  },
  {
   "cell_type": "code",
   "execution_count": 13,
   "metadata": {},
   "outputs": [
    {
     "ename": "ValueError",
     "evalue": "Please provide an OpenAI API key. You can get one at https://platform.openai.com/account/api-keys",
     "output_type": "error",
     "traceback": [
      "\u001b[0;31m---------------------------------------------------------------------------\u001b[0m",
      "\u001b[0;31mValueError\u001b[0m                                Traceback (most recent call last)",
      "\u001b[1;32m/home/yashas/repos/PdfAnalyzer/Main.ipynb Cell 3\u001b[0m line \u001b[0;36m8\n\u001b[1;32m      <a href='vscode-notebook-cell:/home/yashas/repos/PdfAnalyzer/Main.ipynb#W1sZmlsZQ%3D%3D?line=3'>4</a>\u001b[0m \u001b[39mfrom\u001b[39;00m \u001b[39mchromadb\u001b[39;00m\u001b[39m.\u001b[39;00m\u001b[39mutils\u001b[39;00m \u001b[39mimport\u001b[39;00m embedding_functions\n\u001b[1;32m      <a href='vscode-notebook-cell:/home/yashas/repos/PdfAnalyzer/Main.ipynb#W1sZmlsZQ%3D%3D?line=5'>6</a>\u001b[0m client \u001b[39m=\u001b[39m chromadb\u001b[39m.\u001b[39mClient()  \n\u001b[0;32m----> <a href='vscode-notebook-cell:/home/yashas/repos/PdfAnalyzer/Main.ipynb#W1sZmlsZQ%3D%3D?line=7'>8</a>\u001b[0m embedding_model \u001b[39m=\u001b[39m embedding_functions\u001b[39m.\u001b[39;49mOpenAIEmbeddingFunction(model_name\u001b[39m=\u001b[39;49m\u001b[39m\"\u001b[39;49m\u001b[39mtext-embedding-ada-002\u001b[39;49m\u001b[39m\"\u001b[39;49m)\n\u001b[1;32m     <a href='vscode-notebook-cell:/home/yashas/repos/PdfAnalyzer/Main.ipynb#W1sZmlsZQ%3D%3D?line=9'>10</a>\u001b[0m text_embeddings \u001b[39m=\u001b[39m embedding_model(split_text)\n\u001b[1;32m     <a href='vscode-notebook-cell:/home/yashas/repos/PdfAnalyzer/Main.ipynb#W1sZmlsZQ%3D%3D?line=11'>12</a>\u001b[0m \u001b[39mprint\u001b[39m(text_embeddings)\n",
      "File \u001b[0;32m/usr/local/lib/python3.10/dist-packages/chromadb/utils/embedding_functions.py:107\u001b[0m, in \u001b[0;36mOpenAIEmbeddingFunction.__init__\u001b[0;34m(self, api_key, model_name, organization_id, api_base, api_type, api_version)\u001b[0m\n\u001b[1;32m    105\u001b[0m \u001b[39m# If the api key is still not set, raise an error\u001b[39;00m\n\u001b[1;32m    106\u001b[0m \u001b[39melif\u001b[39;00m openai\u001b[39m.\u001b[39mapi_key \u001b[39mis\u001b[39;00m \u001b[39mNone\u001b[39;00m:\n\u001b[0;32m--> 107\u001b[0m     \u001b[39mraise\u001b[39;00m \u001b[39mValueError\u001b[39;00m(\n\u001b[1;32m    108\u001b[0m         \u001b[39m\"\u001b[39m\u001b[39mPlease provide an OpenAI API key. You can get one at https://platform.openai.com/account/api-keys\u001b[39m\u001b[39m\"\u001b[39m\n\u001b[1;32m    109\u001b[0m     )\n\u001b[1;32m    111\u001b[0m \u001b[39mif\u001b[39;00m api_base \u001b[39mis\u001b[39;00m \u001b[39mnot\u001b[39;00m \u001b[39mNone\u001b[39;00m:\n\u001b[1;32m    112\u001b[0m     openai\u001b[39m.\u001b[39mapi_base \u001b[39m=\u001b[39m api_base\n",
      "\u001b[0;31mValueError\u001b[0m: Please provide an OpenAI API key. You can get one at https://platform.openai.com/account/api-keys"
     ]
    }
   ],
   "source": [
    "#Creating Vector Database\n",
    "\n",
    "import chromadb\n",
    "from chromadb.utils import embedding_functions\n",
    "\n",
    "client = chromadb.Client()  \n",
    "\n",
    "embedding_model = embedding_functions.OpenAIEmbeddingFunction(model_name=\"text-embedding-ada-002\")\n",
    "\n",
    "text_embeddings = embedding_model(split_text)\n",
    "\n",
    "print(text_embeddings)"
   ]
  },
  {
   "cell_type": "code",
   "execution_count": null,
   "metadata": {},
   "outputs": [],
   "source": []
  }
 ],
 "metadata": {
  "kernelspec": {
   "display_name": "Python 3",
   "language": "python",
   "name": "python3"
  },
  "language_info": {
   "codemirror_mode": {
    "name": "ipython",
    "version": 3
   },
   "file_extension": ".py",
   "mimetype": "text/x-python",
   "name": "python",
   "nbconvert_exporter": "python",
   "pygments_lexer": "ipython3",
   "version": "3.10.12"
  },
  "orig_nbformat": 4
 },
 "nbformat": 4,
 "nbformat_minor": 2
}
